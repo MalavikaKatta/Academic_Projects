{
  "cells": [
    {
      "cell_type": "markdown",
      "metadata": {
        "id": "view-in-github",
        "colab_type": "text"
      },
      "source": [
        "<a href=\"https://colab.research.google.com/github/MalavikaKatta/Academic_Projects/blob/main/Computational%20Methods/Python_Assignment1.ipynb\" target=\"_parent\"><img src=\"https://colab.research.google.com/assets/colab-badge.svg\" alt=\"Open In Colab\"/></a>"
      ]
    },
    {
      "cell_type": "markdown",
      "metadata": {
        "id": "90_NR8c5XGWc"
      },
      "source": [
        "# Question 1\n",
        "\n",
        "(20 points). Write a Python program to generate 12 random numbers between 1 and 100. Sort the list of numbers in ascending order and print it out. Sort the list of numbers in descending order and print it out. Calculate the average for the group and print it out."
      ]
    },
    {
      "cell_type": "code",
      "execution_count": null,
      "metadata": {
        "colab": {
          "base_uri": "https://localhost:8080/"
        },
        "id": "5QX6bJjGWXY9",
        "outputId": "e7b7d8ca-c598-4e5e-c223-e46400153630"
      },
      "outputs": [
        {
          "output_type": "stream",
          "name": "stdout",
          "text": [
            "The random 12 numbers between 1 and 100 are:  [26, 84, 37, 51, 20, 52, 47, 89, 45, 81, 54, 78]\n",
            "Ascending order of the random 12 numbers is:  [20, 26, 37, 45, 47, 51, 52, 54, 78, 81, 84, 89]\n",
            "Descending order of the random 12 numbers is:  [89, 84, 81, 78, 54, 52, 51, 47, 45, 37, 26, 20]\n",
            "Average of the random 12 numbers is:  55.333333333333336\n"
          ]
        }
      ],
      "source": [
        "import random                             #importing random module\n",
        "i=0                                       #Assigning variable i as zero\n",
        "twelve_random_numbers=[]                  #creating a list\n",
        "sum=0                                     #Assigning variable sum as zero\n",
        "for i in range(12):                       #for loop recursion till i=12\n",
        "  twelve_random_numbers.append(random.randint(1, 100))\n",
        "  sum+=twelve_random_numbers[i]\n",
        "print(\"The random 12 numbers between 1 and 100 are: \",twelve_random_numbers)\n",
        "twelve_random_numbers.sort()              #Ascending Order\n",
        "print(\"Ascending order of the random 12 numbers is: \",twelve_random_numbers)\n",
        "twelve_random_numbers.sort(reverse=True)  #Descending Order\n",
        "print(\"Descending order of the random 12 numbers is: \",twelve_random_numbers)\n",
        "print(\"Average of the random 12 numbers is: \",sum/12)  #Average\n",
        "\n"
      ]
    },
    {
      "cell_type": "markdown",
      "metadata": {
        "id": "1F_PZdH9Sh49"
      },
      "source": [
        "# Question 2\n",
        "(25 points). Write a program that will do the following string formatting tasks:\n",
        "\n",
        "(1) Ask the user to enter two sentences.\n",
        "\n",
        "(2) Make each sentence into a list. Each element in the list should correspond to a word in the sentence. For example, if the sentence is \"Alas! Am I alive? This is my first python program\", the program should print out ['Alas, '!', 'Am', 'I', 'alive, '?', 'This', 'is', 'my', 'first', 'python', 'program'].\n",
        "\n",
        "(3) Compare the two sentences. Print out a list of words that occur in both sentences.\n",
        "\n",
        "(4) Remove any punctuation from the sentence and print it back out. It should remove at least the following characters, but it can remove more: period(“.”), comma (“,”), semicolon (“;”), and colon (“:”)\n",
        "\n",
        "(5) Count the number of vowels in the sentences. Print out each vowel and the number of times it appears in the sentences, such as: a:2, e:1, i:0, etc"
      ]
    },
    {
      "cell_type": "code",
      "execution_count": null,
      "metadata": {
        "colab": {
          "base_uri": "https://localhost:8080/"
        },
        "id": "Y0oOSlsOS0cq",
        "outputId": "31bbd9c7-bc42-4044-c0be-e072b3c84ed2"
      },
      "outputs": [
        {
          "output_type": "stream",
          "name": "stdout",
          "text": [
            "Enter sentence1: malavika's a good girl.\n",
            "Enter sentence2: Dolly is a good girl with good habits such as; waking up early, doing yoga, and studying.\n",
            "New sentence1 after removing punctuations:  malavikas a good girl\n",
            "New sentence2 after removing punctuations:  Dolly is a good girl with good habits such as waking up early doing yoga and studying\n",
            "The count of vowels in sentence1:  {'a': 4, 'e': 0, 'i': 2, 'o': 2, 'u': 0}\n",
            "The count of vowels in sentence2:  {'a': 7, 'e': 1, 'i': 7, 'o': 7, 'u': 3}\n",
            "The list of words from sentence1:  ['malavikas', 'a', 'good', 'girl']\n",
            "The list of words from sentence2:  ['Dolly', 'is', 'a', 'good', 'girl', 'with', 'good', 'habits', 'such', 'as', 'waking', 'up', 'early', 'doing', 'yoga', 'and', 'studying']\n",
            "Same words that exist in both list1 and list2 are:  {'girl', 'good', 'a'}\n"
          ]
        }
      ],
      "source": [
        "sentence1=input(\"Enter sentence1: \",)        #User input sentence1\n",
        "sentence2=input(\"Enter sentence2: \",)       #User input sentence2\n",
        "punctuations_list=['.',',',':',';',\"'\"]    #Creating a list for Punctuations\n",
        "for i in punctuations_list:               #i as an iterative variable\n",
        "  sentence1=sentence1.replace(i,'')      #Repalcing punctuation with null\n",
        "  sentence2=sentence2.replace(i,'')     #Repalcing punctuation with null\n",
        "print(\"New sentence1 after removing punctuations: \",sentence1)\n",
        "print(\"New sentence2 after removing punctuations: \",sentence2)\n",
        "vowels=['a','e','i','o','u']               #Creating list for vowels\n",
        "Vowel_Dictionary1={}                       #An empty dictionary\n",
        "Vowel_Dictionary2={}                       #Empty dictionary\n",
        "for j in vowels:                           #j is an iterative variable\n",
        "  Vowel_Dictionary1[j]=sentence1.count(j)\n",
        "  Vowel_Dictionary2[j]=sentence2.count(j)\n",
        "print(\"The count of vowels in sentence1: \",Vowel_Dictionary1)\n",
        "print(\"The count of vowels in sentence2: \",Vowel_Dictionary2)\n",
        "list1=sentence1.split()              #splits the sentence into words\n",
        "list2=sentence2.split()             #splits the sentence into words\n",
        "list3=[]                           #empty list to compare other two lists\n",
        "print(\"The list of words from sentence1: \",list1)\n",
        "print(\"The list of words from sentence2: \",list2)\n",
        "for i in list1:                 #i is an iterable variable in list1\n",
        "  for j in list2:              #j is an iterable variable in list2\n",
        "    if i==j:                  #condition checks\n",
        "      list3.append(i)   #empty lists gets appended with same words in both lists\n",
        "print(\"Same words that exist in both list1 and list2 are: \",set(list3))\n",
        "\n",
        "\n",
        "\n",
        "\n",
        "\n",
        "\n"
      ]
    },
    {
      "cell_type": "markdown",
      "metadata": {
        "id": "CmFoI4jDS9nx"
      },
      "source": [
        "# Question 3\n",
        "\n",
        "(15 points). The formula that describes the volume V of a sphere with radius r is the following:\n",
        "\n",
        "$ V=\\frac{4}{3}\\ast\\ \\pi\\ast\\ r^3 $\n",
        "\n",
        "Write a program to calculate the value of V when r is in the range of 1–10. Output the result in the following format:\n",
        "\n",
        "\tr\tV\n",
        "\t1\t…\n",
        "\t2\t…\n",
        "\t3\t…\n"
      ]
    },
    {
      "cell_type": "code",
      "execution_count": null,
      "metadata": {
        "id": "pEyqeioAT95b",
        "colab": {
          "base_uri": "https://localhost:8080/"
        },
        "outputId": "a95e79de-9e5b-45e6-cc9b-869018caf66b"
      },
      "outputs": [
        {
          "output_type": "stream",
          "name": "stdout",
          "text": [
            "r  V\n",
            "1 4.19\n",
            "2 33.51\n",
            "3 113.1\n",
            "4 268.08\n",
            "5 523.6\n",
            "6 904.78\n",
            "7 1436.76\n",
            "8 2144.66\n",
            "9 3053.63\n",
            "10 4188.79\n"
          ]
        }
      ],
      "source": [
        "import math\n",
        "print(\"r  V\")\n",
        "for r in range(1, 11):\n",
        "    V = (4/3) * math.pi * (r**3)\n",
        "    print(r,round(V, 2))"
      ]
    },
    {
      "cell_type": "markdown",
      "metadata": {
        "id": "z3tBE7E-Xn5X"
      },
      "source": [
        "# Question 4\n",
        "\n",
        "(40 points). In the field of Data Science, data is often formatted as a comma-delimited (CSV) file, where each line in a file corresponds to a field's value. Refer to Chapter 9 (p. 106) for more information on comma-delimited files. To answer this question, you will need to download the file [Assignment1_denton_housing.csv](https://raw.githubusercontent.com/unt-iialab/info5731-spring2022/main/assignments/Assignment1_denton_housing.csv) included with this assignment. The file [Assignment1_denton_housing.csv](https://raw.githubusercontent.com/unt-iialab/info5731-spring2022/main/assignments/Assignment1_denton_housing.csv) contains statistics about housing in the city of Denton from 2008 to 2014. Write a program to implement the following questions.\n",
        "\n",
        "(1) (10 pts) Calculate the difference in the number of Occupied Housing Units from year to year and print it. The difference must be calculated for the consecutive years such as 2008-2009, 2009-2010 etc. Finally, print the values in the ascending order.\n",
        "\n",
        "(2) (10 pts) For all the years, calculate the percentage of housing units which are vacant an occupied. Print the results in the following format:\n",
        "\n",
        "Year Vacant Housing Units Occupied Housing Units\n",
        "\n",
        "    2008  30%   70%                          \n",
        "\t2009 ----- -----\n",
        "\t2010 ----- -----\n",
        "    2011 ----- -----\n",
        "\t2012 ----- -----\n",
        "    2013 ----- -----\n",
        "\t2014 ----- -----\n",
        "  \n",
        "  \n",
        "\n",
        "(3) (10 pts) Calculate and print the valued and years in which the highest number of housing units were vacant and occupied. Print the results in the following format:  \n",
        "\n",
        "                              Year\tValue\n",
        "\tVacant Housing Units\t  -----   -----\n",
        "\tOccupied Housing Units\t-----   -----\n",
        "\n",
        "(4) (10 pts) Calculate the harmonic mean of the total housing units and print it out. You can find the information about harmonic mean here: https://ncalculators.com/statistics/harmonic-mean-calculator.htm"
      ]
    },
    {
      "cell_type": "code",
      "execution_count": null,
      "metadata": {
        "id": "lqGYuHBhcsRH",
        "colab": {
          "base_uri": "https://localhost:8080/"
        },
        "outputId": "0839add0-6dd4-45a6-d79c-e411562b3fbe"
      },
      "outputs": [
        {
          "output_type": "stream",
          "name": "stdout",
          "text": [
            "\n",
            "Difference of Occupied housing units in consecutive years\n",
            "The difference between the years 2008 and 2009 is: 795\n",
            "The difference between the years 2009 and 2010 is: -5091\n",
            "The difference between the years 2010 and 2011 is: 303\n",
            "The difference between the years 2011 and 2012 is: -1404\n",
            "The difference between the years 2012 and 2013 is: -1565\n",
            "The difference between the years 2013 and 2014 is: -2622\n",
            "\n",
            "Difference list in ascending order\n",
            "[795, -5091, 303, -1404, -1565, -2622]\n",
            "\n",
            "Percentage of vacant and occupied housing units by year\n",
            " Year| Vacant Housing Units| Occupied Housing Units\n",
            "  2008                10.88%                 89.12%\n",
            "  2009                 9.07%                 90.93%\n",
            "  2010                 8.14%                 91.86%\n",
            "  2011                 9.38%                 90.62%\n",
            "  2012                 6.68%                 93.32%\n",
            "  2013                 8.80%                 91.20%\n",
            "  2014                 5.73%                 94.27%\n",
            "\n",
            "Highest number of vacant and occupied housing units\n",
            "                        Year  Value\n",
            "Vacant Housing Units    2008   4483\n",
            "Occupied Housing Units  2014  46295\n",
            "\n",
            "Harmonic Mean of Total housing units\n",
            "Harmonic Mean:  44398.28543969185\n"
          ]
        }
      ],
      "source": [
        "import pandas as pd\n",
        "df = pd.read_csv('Assignment1_denton_housing.csv')\n",
        "#Question1\n",
        "Occupied_Housing_Units = df[df.title_field==\"Occupied Housing Units\"]\n",
        "diff_list=[]\n",
        "print(\"\\nDifference of Occupied housing units in consecutive years\")\n",
        "for i in range(len(Occupied_Housing_Units) - 1, 0, -1):\n",
        "    year1 = Occupied_Housing_Units.iloc[i]['year']\n",
        "    year2 = Occupied_Housing_Units.iloc[i - 1]['year']\n",
        "    diff = int(Occupied_Housing_Units.iloc[i]['value']) - int(Occupied_Housing_Units.iloc[i - 1]['value'])\n",
        "    print(f\"The difference between the years {year1} and {year2} is: {diff}\")\n",
        "    diff_list.append(diff)\n",
        "print(\"\\nDifference list in ascending order\")\n",
        "print(diff_list)\n",
        "#Question2\n",
        "total_vacant_units = df[df.title_field == \"Vacant Housing Units\"][\"value\"].tolist()\n",
        "total_occupied_units = df[df.title_field == \"Occupied Housing Units\"][\"value\"].tolist()\n",
        "list=[]\n",
        "for year in range(2008, 2015):\n",
        "    vacant_units = total_vacant_units[2014 - year]\n",
        "    occupied_units = total_occupied_units[2014 - year]\n",
        "    total_units = vacant_units + occupied_units\n",
        "    vacant_percentage = (vacant_units / total_units) * 100\n",
        "    occupied_percentage = (occupied_units / total_units) * 100\n",
        "    list.append([year, f\"{vacant_percentage:.2f}%\", f\"{occupied_percentage:.2f}%\"])\n",
        "Vacant_vs_Occupied_percentage_by_year = pd.DataFrame(list, columns=['Year|', 'Vacant Housing Units|', 'Occupied Housing Units'])\n",
        "print(\"\\nPercentage of vacant and occupied housing units by year\")\n",
        "print(Vacant_vs_Occupied_percentage_by_year.to_string(index=False))\n",
        "#Question3\n",
        "Vacant_Housing_Units = df[df.title_field==\"Vacant Housing Units\"]\n",
        "max_vacant_year = Vacant_Housing_Units.loc[Vacant_Housing_Units['value'].idxmax()]['year']\n",
        "max_vacant_value = Vacant_Housing_Units['value'].max()\n",
        "max_occupied_year = Occupied_Housing_Units.loc[Occupied_Housing_Units['value'].idxmax()]['year']\n",
        "max_occupied_value = Occupied_Housing_Units['value'].max()\n",
        "result_dict = {'Year': [max_vacant_year, max_occupied_year],'Value': [max_vacant_value, max_occupied_value]}\n",
        "highest_number_of_vacant_and_occupied_housing=pd.DataFrame(result_dict, index=['Vacant Housing Units', 'Occupied Housing Units'])\n",
        "print(\"\\nHighest number of vacant and occupied housing units\")\n",
        "print(highest_number_of_vacant_and_occupied_housing)\n",
        "#Question4\n",
        "from scipy.stats import hmean\n",
        "Total_Housing_Units = df[df.title_field==\"Total Housing Units\"]\n",
        "harmonic_mean = hmean(Total_Housing_Units['value'])\n",
        "print(\"\\nHarmonic Mean of Total housing units\")\n",
        "print(\"Harmonic Mean: \", harmonic_mean)"
      ]
    }
  ],
  "metadata": {
    "colab": {
      "provenance": [],
      "include_colab_link": true
    },
    "kernelspec": {
      "display_name": "Python 3 (ipykernel)",
      "language": "python",
      "name": "python3"
    },
    "language_info": {
      "codemirror_mode": {
        "name": "ipython",
        "version": 3
      },
      "file_extension": ".py",
      "mimetype": "text/x-python",
      "name": "python",
      "nbconvert_exporter": "python",
      "pygments_lexer": "ipython3",
      "version": "3.9.12"
    }
  },
  "nbformat": 4,
  "nbformat_minor": 0
}