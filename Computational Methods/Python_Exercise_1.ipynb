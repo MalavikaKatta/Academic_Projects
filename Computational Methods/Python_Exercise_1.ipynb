{
  "cells": [
    {
      "cell_type": "markdown",
      "metadata": {
        "id": "view-in-github",
        "colab_type": "text"
      },
      "source": [
        "<a href=\"https://colab.research.google.com/github/MalavikaKatta/Academic_Projects/blob/main/Computational%20Methods/Python_Exercise_1.ipynb\" target=\"_parent\"><img src=\"https://colab.research.google.com/assets/colab-badge.svg\" alt=\"Open In Colab\"/></a>"
      ]
    },
    {
      "cell_type": "markdown",
      "source": [
        "(1) Write a Python program to calculate the area of a rectangle using user-input length and width."
      ],
      "metadata": {
        "id": "FBKvD6O_TY6e"
      }
    },
    {
      "cell_type": "code",
      "source": [
        "length=int(input('Enter the length of the rectangle in cm: '))\n",
        "width=int(input('Enter the width of the rectangle in cm: '))\n",
        "Area=length*width\n",
        "print(f\"Area of rectangle is: {Area}cm^2\")"
      ],
      "metadata": {
        "id": "cikVKDXdTbzE",
        "colab": {
          "base_uri": "https://localhost:8080/"
        },
        "outputId": "d8a04670-e9b3-4b10-a488-a84bc082b506"
      },
      "execution_count": null,
      "outputs": [
        {
          "output_type": "stream",
          "name": "stdout",
          "text": [
            "Enter the length of the rectangle in cm: 4\n",
            "Enter the width of the rectangle in cm: 5\n",
            "Area of rectangle is: 20cm^2\n"
          ]
        }
      ]
    },
    {
      "cell_type": "markdown",
      "source": [
        "(2) Create a program that takes two numbers from the user and swaps their values without using a temporary variable."
      ],
      "metadata": {
        "id": "E9RqrlwdTfvl"
      }
    },
    {
      "cell_type": "code",
      "source": [
        "number1=int(input('Enter number1: '))\n",
        "number2=int(input('Enter number2: '))\n",
        "number2=number2-number1\n",
        "number1=number2+number1\n",
        "number2=number1-number2\n",
        "print('New number1: ',number1)\n",
        "print('New number2: ',number2)"
      ],
      "metadata": {
        "id": "4XvRknixTh1g",
        "colab": {
          "base_uri": "https://localhost:8080/"
        },
        "outputId": "a37db489-a5e2-463f-eed3-20f61f11a0e3"
      },
      "execution_count": null,
      "outputs": [
        {
          "output_type": "stream",
          "name": "stdout",
          "text": [
            "Enter number1: 15\n",
            "Enter number2: 22\n",
            "New number1:  22\n",
            "New number2:  15\n"
          ]
        }
      ]
    },
    {
      "cell_type": "markdown",
      "metadata": {
        "id": "03jb4GZsBkBS"
      },
      "source": [
        "(3) Write a Python program to calculate the length of a string."
      ]
    },
    {
      "cell_type": "code",
      "execution_count": null,
      "metadata": {
        "id": "YaGLbSHHB8Ej",
        "colab": {
          "base_uri": "https://localhost:8080/"
        },
        "outputId": "17bc5977-8f30-4267-a02f-bf2dbccab987"
      },
      "outputs": [
        {
          "output_type": "stream",
          "name": "stdout",
          "text": [
            "Enter a string: Malavika is good.\n",
            "17\n"
          ]
        }
      ],
      "source": [
        "string=input('Enter a string: ')\n",
        "print(len(string))"
      ]
    },
    {
      "cell_type": "markdown",
      "source": [],
      "metadata": {
        "id": "9wOjkjQfO--l"
      }
    },
    {
      "cell_type": "markdown",
      "metadata": {
        "id": "jJDe71iLB616"
      },
      "source": [
        "(4) Write a Python program to count the number of characters in a string.\n",
        "\n",
        "Sample String : 'google.com‘,\n",
        "\n",
        "Expected Result : {'o': 3, 'g': 2, '.': 1, 'e': 1, 'l': 1, 'm': 1, 'c': 1}"
      ]
    },
    {
      "cell_type": "code",
      "execution_count": null,
      "metadata": {
        "id": "MtKskTzbCLaU",
        "colab": {
          "base_uri": "https://localhost:8080/"
        },
        "outputId": "9519e1b9-3ab2-402c-a769-8b7fe0c12ca8"
      },
      "outputs": [
        {
          "output_type": "stream",
          "name": "stdout",
          "text": [
            "Enter a string: google.com\n",
            "{'g': 2, 'o': 3, 'l': 1, 'e': 1, '.': 1, 'c': 1, 'm': 1}\n",
            "{'o': 3, 'g': 2, '.': 1, 'e': 1, 'l': 1, 'm': 1, 'c': 1}\n"
          ]
        }
      ],
      "source": [
        "string = input(\"Enter a string: \")\n",
        "character_count = {}\n",
        "for char in string:\n",
        "   if char in character_count:\n",
        "      character_count[char] += 1\n",
        "   else:\n",
        "      character_count[char] = 1\n",
        "print(character_count)\n",
        "\n",
        "def swap_items_around_middle(input_dict):\n",
        "    keys = list(input_dict.keys())\n",
        "    values = list(input_dict.values())\n",
        "    middle_index = len(keys) // 2\n",
        "    # Swap the first two items\n",
        "    keys[0], keys[1] = keys[1], keys[0]\n",
        "    values[0], values[1] = values[1], values[0]\n",
        "    # Swap the last two items\n",
        "    keys[-1], keys[-2] = keys[-2], keys[-1]\n",
        "    values[-1], values[-2] = values[-2], values[-1]\n",
        "    # Swap the items around the middle item\n",
        "    if middle_index > 0 and middle_index < len(keys) - 1:\n",
        "        keys[middle_index - 1], keys[middle_index + 1] = keys[middle_index + 1], keys[middle_index - 1]\n",
        "        values[middle_index - 1], values[middle_index + 1] = values[middle_index + 1], values[middle_index - 1]\n",
        "    output_dict = dict(zip(keys, values))\n",
        "    return output_dict\n",
        "\n",
        "print(swap_items_around_middle(character_count))"
      ]
    },
    {
      "cell_type": "markdown",
      "metadata": {
        "id": "55W9AMdXCSpV"
      },
      "source": [
        "(5) Write a Python program to sum all the items in a list."
      ]
    },
    {
      "cell_type": "code",
      "execution_count": null,
      "metadata": {
        "id": "I57NXsauCec2",
        "colab": {
          "base_uri": "https://localhost:8080/"
        },
        "outputId": "1869629a-dd0b-4ffb-edea-9c1974160b79"
      },
      "outputs": [
        {
          "output_type": "stream",
          "name": "stdout",
          "text": [
            "Sum of all the elements in the given list is   69\n"
          ]
        }
      ],
      "source": [
        "list=[1, 3, 5, 4, 56]\n",
        "sum_of_list = sum(list)\n",
        "print(\"Sum of all the elements in the given list is  \", sum_of_list)"
      ]
    },
    {
      "cell_type": "markdown",
      "metadata": {
        "id": "4ulBZ6yhCi9F"
      },
      "source": [
        "(6) Write a Python program to get a string from a given string where all occurrences of its first char have been changed to '\\$', except the first char itself.\n",
        "\n",
        "Sample String : 'restart‘,\n",
        "\n",
        "Expected Result : 'resta\\$t'"
      ]
    },
    {
      "cell_type": "code",
      "execution_count": null,
      "metadata": {
        "id": "Fj0XhwbBCw2o",
        "colab": {
          "base_uri": "https://localhost:8080/"
        },
        "outputId": "64cf4c0d-633d-4cac-ec9d-0a81580c391e"
      },
      "outputs": [
        {
          "output_type": "stream",
          "name": "stdout",
          "text": [
            "resta$t\n"
          ]
        }
      ],
      "source": [
        "string='restart'\n",
        "char = string[0]\n",
        "string = string.replace(char, '$')\n",
        "string = char + string[1:]\n",
        "print(string)\n"
      ]
    },
    {
      "cell_type": "markdown",
      "source": [
        "(7) Create a program that calculates the factorial of a number using a while loop."
      ],
      "metadata": {
        "id": "qVXA3q7ET5JI"
      }
    },
    {
      "cell_type": "code",
      "source": [
        "number = int(input(\"Enter a number: \"))\n",
        "factorial = 1\n",
        "if number < 0:\n",
        "    print(\"Please enter a valid number\",)\n",
        "elif number == 0:\n",
        "    print(\"The factorial of 0 is 1.\")\n",
        "else:\n",
        "    while number > 0:\n",
        "        factorial *= number\n",
        "        number -= 1\n",
        "    print(\"The factorial is:\", factorial)"
      ],
      "metadata": {
        "id": "Lbt7R6UkT7BA",
        "colab": {
          "base_uri": "https://localhost:8080/"
        },
        "outputId": "71e7c356-e81a-45b8-f880-83fa69d5e537"
      },
      "execution_count": null,
      "outputs": [
        {
          "output_type": "stream",
          "name": "stdout",
          "text": [
            "Enter a number: 5\n",
            "The factorial is: 120\n"
          ]
        }
      ]
    },
    {
      "cell_type": "markdown",
      "source": [
        "(8) Create a program that takes a list of numbers as input and outputs a new list with only the even numbers."
      ],
      "metadata": {
        "id": "6YfbzXMNT--R"
      }
    },
    {
      "cell_type": "code",
      "source": [
        "list = input(\"Enter a list of numbers separated by spaces: \")\n",
        "input_list = [int(x) for x in list.split()]\n",
        "even_list = [num for num in input_list if num % 2 == 0]\n",
        "print(\"Even numbers in the input list:\", even_list)"
      ],
      "metadata": {
        "id": "54q7wMQPUAKu",
        "colab": {
          "base_uri": "https://localhost:8080/"
        },
        "outputId": "fa4bd162-3d02-41c8-d5e9-7abda481c853"
      },
      "execution_count": null,
      "outputs": [
        {
          "output_type": "stream",
          "name": "stdout",
          "text": [
            "Enter a list of numbers separated by spaces: 21 22 23 24 25\n",
            "Even numbers in the input list: [22, 24]\n"
          ]
        }
      ]
    },
    {
      "cell_type": "markdown",
      "metadata": {
        "id": "_bIP7s1MCzue"
      },
      "source": [
        "(9) Write a program with python which could accept two parameter a and b to calculate and output the result of S, where\n",
        "\n",
        "$\\ S=3.14*(1+a/b)^3$\n",
        "\n"
      ]
    },
    {
      "cell_type": "code",
      "execution_count": null,
      "metadata": {
        "id": "w79QilHXD3Mg",
        "colab": {
          "base_uri": "https://localhost:8080/"
        },
        "outputId": "ab098ea4-bdc9-4a59-ab45-153dbce61c69"
      },
      "outputs": [
        {
          "output_type": "stream",
          "name": "stdout",
          "text": [
            "Enter the Value for a: 6\n",
            "Enter the Value for b: 3\n",
            "Result of S is:  84.78\n"
          ]
        }
      ],
      "source": [
        "a = int(input(\"Enter the Value for a: \"))\n",
        "b = int(input(\"Enter the Value for b: \"))\n",
        "S =3.14 * ((1 + (a/b))**3)\n",
        "print(\"Result of S is: \",S)"
      ]
    },
    {
      "cell_type": "markdown",
      "metadata": {
        "id": "xCa2bK9aD4Q3"
      },
      "source": [
        "(10) Write a Python program to concatenate following dictionaries to create a new one.\n",
        "\n",
        "Sample Dictionary : dic1={1:10, 2:20}, dic2={3:30, 4:40}, dic3={5:50,6:60},\n",
        "\n",
        "Expected Result : {1: 10, 2: 20, 3: 30, 4: 40, 5: 50, 6: 60}\n"
      ]
    },
    {
      "cell_type": "code",
      "execution_count": null,
      "metadata": {
        "id": "_z4aLqAbEET1",
        "colab": {
          "base_uri": "https://localhost:8080/"
        },
        "outputId": "a3420022-d465-4b88-c67e-5c41ee624699"
      },
      "outputs": [
        {
          "output_type": "stream",
          "name": "stdout",
          "text": [
            "{1: 10, 2: 20, 3: 30, 4: 40, 5: 50, 6: 60}\n"
          ]
        }
      ],
      "source": [
        "dic1 = {1: 10, 2: 20}\n",
        "dic2 = {3: 30, 4: 40}\n",
        "dic3 = {5: 50, 6: 60}\n",
        "result = {}\n",
        "result.update(dic1)\n",
        "result.update(dic2)\n",
        "result.update(dic3)\n",
        "print(result)"
      ]
    },
    {
      "cell_type": "markdown",
      "source": [
        "(11) Write a Python function that accepts a tuple of integers and returns the largest and smallest elements."
      ],
      "metadata": {
        "id": "bkyZ2xSZUOst"
      }
    },
    {
      "cell_type": "code",
      "source": [
        "tuple = (1,2,3,4,5)\n",
        "print('The largest element in tuple is: ',max(tuple))\n",
        "print('The smallest element in tuple is: ',min(tuple))"
      ],
      "metadata": {
        "id": "3FdLRBKOUQEd",
        "colab": {
          "base_uri": "https://localhost:8080/"
        },
        "outputId": "2fc73886-de83-49f8-c682-95f5d00a3076"
      },
      "execution_count": null,
      "outputs": [
        {
          "output_type": "stream",
          "name": "stdout",
          "text": [
            "The largest element in tuple is:  5\n",
            "The smallest element in tuple is:  1\n"
          ]
        }
      ]
    },
    {
      "cell_type": "markdown",
      "source": [
        "(12) Write a Python program that counts the frequency of each character in a given string and stores it in a dictionary."
      ],
      "metadata": {
        "id": "O0TVi3gKUTpp"
      }
    },
    {
      "cell_type": "code",
      "source": [
        "string = input(\"Enter a string: \")\n",
        "character_count = {}\n",
        "for char in string:\n",
        "   if char in character_count:\n",
        "      character_count[char] += 1\n",
        "   else:\n",
        "      character_count[char] = 1\n",
        "print(character_count)"
      ],
      "metadata": {
        "id": "lAtfSfZXUU-h",
        "colab": {
          "base_uri": "https://localhost:8080/"
        },
        "outputId": "0ade4e87-cbff-423c-f017-7abe554dbe02"
      },
      "execution_count": null,
      "outputs": [
        {
          "output_type": "stream",
          "name": "stdout",
          "text": [
            "Enter a string: Malavika\n",
            "{'M': 1, 'a': 3, 'l': 1, 'v': 1, 'i': 1, 'k': 1}\n"
          ]
        }
      ]
    },
    {
      "cell_type": "markdown",
      "metadata": {
        "id": "0v48Vqa7FrQh"
      },
      "source": [
        "(13) Write a Python program to check whether an element exists within a tuple."
      ]
    },
    {
      "cell_type": "code",
      "execution_count": null,
      "metadata": {
        "id": "7WEmgq-DF2P1",
        "colab": {
          "base_uri": "https://localhost:8080/"
        },
        "outputId": "1acdbef1-34bc-4835-e412-44169e85e0ea"
      },
      "outputs": [
        {
          "output_type": "stream",
          "name": "stdout",
          "text": [
            "Enter an element to check if it exists in the tuple: 6\n",
            "6 does not exist in the tuple.\n"
          ]
        }
      ],
      "source": [
        "tuple = (5,4,3,2,1)\n",
        "element = int(input(\"Enter an element to check if it exists in the tuple: \"))\n",
        "if element in tuple:\n",
        "    print(f\"{element} exists in the tuple.\")\n",
        "else:\n",
        "    print(f\"{element} does not exist in the tuple.\")"
      ]
    },
    {
      "cell_type": "markdown",
      "metadata": {
        "id": "vD5PYLMuGga_"
      },
      "source": [
        "(14) Write a Python program to find maximum and the minimum value in a set."
      ]
    },
    {
      "cell_type": "code",
      "execution_count": null,
      "metadata": {
        "id": "t0D5kdJUGjjw",
        "colab": {
          "base_uri": "https://localhost:8080/"
        },
        "outputId": "e62578f8-74ae-4834-ff70-e7078db9e52c"
      },
      "outputs": [
        {
          "output_type": "stream",
          "name": "stdout",
          "text": [
            "9\n",
            "1\n"
          ]
        }
      ],
      "source": [
        "set={1,3,5,6,7,9}\n",
        "print(max(set))\n",
        "print(min(set))\n"
      ]
    },
    {
      "cell_type": "markdown",
      "metadata": {
        "id": "uHkd-y5VhVWC"
      },
      "source": [
        "(15) Write a Python program to randomly divide the students in this class into six groups for term projects, each group should have at least 4 students but no more than 6 students (including 6). Here is the students list:\n",
        "student_list_fall_2023=['sb1826' ,\n",
        " 'lb0582' ,\n",
        " 'ab1820' ,\n",
        " 'sb1883' ,\n",
        " 'mb1296' ,\n",
        " 'sc1622' ,\n",
        " 'tc0469' ,\n",
        " 'ac1770' ,\n",
        " 'mc1453' ,\n",
        " 'ad1187' ,\n",
        " 'sd0926' ,\n",
        " 'sd1268' ,\n",
        " 'ag1609' ,\n",
        " 'sg1638' ,\n",
        " 'mg1299' ,\n",
        " 'vkk0022' ,\n",
        " 'bk0413' ,\n",
        " 'gk0257' ,\n",
        " 'am2807' ,\n",
        " 'gm0558' ,\n",
        " 'pm0658' ,\n",
        " 'am2346' ,\n",
        " 'rm1090' ,\n",
        " 'sm2364' ,\n",
        " 'sm2747' ,\n",
        " 'sm2343' ,\n",
        " 'vm0597' ,\n",
        " 'htn0086' ,\n",
        " 'sp2075' ,\n",
        " 'gp0306' ,\n",
        " 'lp0502' ,\n",
        " 'sr1508' ,\n",
        " 'vr0331' ,\n",
        " 'yr0180' ,\n",
        " 'as2819' ,\n",
        " 'ss2981' ,\n",
        " 'ns0756' ,\n",
        " 'mt0825' ,\n",
        " 'dt0463' ,\n",
        " 'su0137' ,\n",
        " 'dv0310'\n",
        "]"
      ]
    },
    {
      "cell_type": "code",
      "execution_count": null,
      "metadata": {
        "id": "3iGbmcOBhTwy",
        "colab": {
          "base_uri": "https://localhost:8080/"
        },
        "outputId": "e0af88fc-74df-4220-d945-b39e88264dc2"
      },
      "outputs": [
        {
          "output_type": "stream",
          "name": "stdout",
          "text": [
            "Group 1: mg1299, su0137, gp0306, sg1638, ag1609, yr0180\n",
            "Group 2: sb1826, tc0469, sd0926, vkk0022, sp2075, rm1090\n",
            "Group 3: pm0658, sr1508, mb1296, sm2747, gk0257, vm0597\n",
            "Group 4: am2807, lb0582, sm2364, vr0331, dv0310, mt0825\n",
            "Group 5: as2819, am2346, ns0756, sm2343, htn0086, lp0502\n",
            "Group 6: ac1770, bk0413, ad1187, gm0558, sb1883, sd1268\n",
            "Group 7: dt0463, ab1820, ss2981, mc1453, sc1622\n"
          ]
        }
      ],
      "source": [
        "# There are a total of 41 students and they can be divided into 6 groups at least when there is a maximum of 7 students in each group.\n",
        "import random\n",
        "student_list_fall_2023 = ['sb1826', 'lb0582', 'ab1820', 'sb1883', 'mb1296', 'sc1622', 'tc0469', 'ac1770', 'mc1453', 'ad1187', 'sd0926', 'sd1268', 'ag1609', 'sg1638', 'mg1299', 'vkk0022', 'bk0413', 'gk0257', 'am2807', 'gm0558', 'pm0658', 'am2346', 'rm1090', 'sm2364', 'sm2747', 'sm2343', 'vm0597', 'htn0086', 'sp2075', 'gp0306', 'lp0502', 'sr1508', 'vr0331', 'yr0180', 'as2819', 'ss2981', 'ns0756', 'mt0825', 'dt0463', 'su0137', 'dv0310']\n",
        "random.shuffle(student_list_fall_2023)\n",
        "groups = [student_list_fall_2023[i:i+6] for i in range(0, len(student_list_fall_2023), 6)]\n",
        "if len(groups) < 5:\n",
        "    groups[-1].extend(student_list_fall_2023[len(groups)*6:])\n",
        "for i, group in enumerate(groups, start=1):\n",
        "    print(f\"Group {i}: {', '.join(group)}\")\n"
      ]
    },
    {
      "cell_type": "markdown",
      "metadata": {
        "id": "fmZ9vX20Qs3d"
      },
      "source": [
        "(16) Write a Python program to find the duplicate elements in a given array of integers. Return -1 If there are no such elements."
      ]
    },
    {
      "cell_type": "code",
      "execution_count": null,
      "metadata": {
        "id": "W8Jw6sWMQs3d",
        "colab": {
          "base_uri": "https://localhost:8080/"
        },
        "outputId": "019e3eaf-2449-4323-e713-09477ad7530c"
      },
      "outputs": [
        {
          "output_type": "stream",
          "name": "stdout",
          "text": [
            "Enter array of integers separted by space: 1 1 1 2 2 2 3 4 4 5  6 6 7\n",
            "Duplicate elements: [1, 2, 4, 6]\n"
          ]
        }
      ],
      "source": [
        "def find_duplicates(arr):\n",
        "    count_dict = {}\n",
        "    duplicates = []\n",
        "    for num in arr:\n",
        "        if num in count_dict:\n",
        "            count_dict[num] += 1\n",
        "        else:\n",
        "            count_dict[num] = 1\n",
        "    for num, count in count_dict.items():\n",
        "        if count > 1:\n",
        "            duplicates.append(num)\n",
        "    if duplicates:\n",
        "        return duplicates\n",
        "    else:\n",
        "        return -1\n",
        "\n",
        "input_array_of_integers=list(map(int,input(\"Enter array of integers separted by space: \").split()))\n",
        "result = find_duplicates(input_array_of_integers)\n",
        "if result == -1:\n",
        "    print(\"No duplicate elements found.\")\n",
        "else:\n",
        "    print(\"Duplicate elements:\", result)"
      ]
    },
    {
      "cell_type": "markdown",
      "metadata": {
        "id": "hvq4APMhQs3d"
      },
      "source": [
        "(17) Write a Python program to select all the Sundays of a specified year."
      ]
    },
    {
      "cell_type": "code",
      "execution_count": null,
      "metadata": {
        "id": "ZnoxhSglQs3d",
        "colab": {
          "base_uri": "https://localhost:8080/"
        },
        "outputId": "aaabcf69-702a-45be-97d0-5d42488d188a"
      },
      "outputs": [
        {
          "output_type": "stream",
          "name": "stdout",
          "text": [
            "Enter the year: 2023\n",
            "Sundays in 2023 after 2023-09-14 are:\n",
            "2023-09-17\n",
            "2023-09-24\n",
            "2023-10-01\n",
            "2023-10-08\n",
            "2023-10-15\n",
            "2023-10-22\n",
            "2023-10-29\n",
            "2023-11-05\n",
            "2023-11-12\n",
            "2023-11-19\n",
            "2023-11-26\n",
            "2023-12-03\n",
            "2023-12-10\n",
            "2023-12-17\n",
            "2023-12-24\n",
            "2023-12-31\n"
          ]
        }
      ],
      "source": [
        "import datetime\n",
        "current_date = datetime.date(year, 9, 14)\n",
        "def find_sundays(year):\n",
        "    sundays = []\n",
        "    current_date = datetime.date(year, 9, 14)\n",
        "    while current_date.year == year:\n",
        "        if current_date.weekday() == 6:\n",
        "            sundays.append(current_date)\n",
        "        current_date += datetime.timedelta(days=1)\n",
        "    return sundays\n",
        "year = int(input(\"Enter the year: \"))\n",
        "sundays = find_sundays(year)\n",
        "if sundays:\n",
        "    print(f\"Sundays in {year} after {current_date} are:\")\n",
        "    for sunday in sundays:\n",
        "        print(sunday.strftime(\"%Y-%m-%d\"))\n",
        "else:\n",
        "    print(f\"No Sundays found in {year}.\")\n"
      ]
    },
    {
      "cell_type": "markdown",
      "source": [
        "(18) Build a program that calculates the factorial of a given positive integer. The factorial of a non-negative integer n is the product of all positive integers less than or equal to n."
      ],
      "metadata": {
        "id": "55FWoSJPVVM6"
      }
    },
    {
      "cell_type": "code",
      "source": [
        "def factorial(num):\n",
        "  f = 1\n",
        "  if num < 0:\n",
        "    print(\"Please enter a valid number\",)\n",
        "  elif num == 0:\n",
        "    return 1\n",
        "  else:\n",
        "    while num > 0:\n",
        "        f *= num\n",
        "        num -= 1\n",
        "    return f\n",
        "number = int(input(\"Enter a number: \"))\n",
        "print(f\"The factorial of {number} is:\", factorial(number))"
      ],
      "metadata": {
        "id": "hwtr1wZmVX5A",
        "colab": {
          "base_uri": "https://localhost:8080/"
        },
        "outputId": "0a53f40e-452f-4cdc-e7d3-021608689a25"
      },
      "execution_count": null,
      "outputs": [
        {
          "output_type": "stream",
          "name": "stdout",
          "text": [
            "Enter a number: -3\n",
            "Please enter a valid number\n",
            "The factorial of -3 is: None\n"
          ]
        }
      ]
    },
    {
      "cell_type": "markdown",
      "source": [
        "(19) Write a program that takes a positive integer n as input and prints the count of even numbers from 1 to n. Use a loop to iterate through the numbers and utilize the break statement to optimize the loop."
      ],
      "metadata": {
        "id": "Q9ecagcaVazW"
      }
    },
    {
      "cell_type": "code",
      "source": [
        "def count_even_numbers(n):\n",
        "    count = 0\n",
        "    for i in range(1, n + 1):\n",
        "        if i % 2 == 0:\n",
        "            count += 1\n",
        "        if i >= n:\n",
        "            break\n",
        "    return count\n",
        "n = int(input(\"Enter a positive integer: \"))\n",
        "if n <= 0:\n",
        "    print(\"It is invalid! Please enter a positive integer\")\n",
        "else:\n",
        "    even_count = count_even_numbers(n)\n",
        "    print(f\"The count of even numbers from 1 to {n} is: {even_count}\")"
      ],
      "metadata": {
        "id": "gycgckoAVZjR",
        "colab": {
          "base_uri": "https://localhost:8080/"
        },
        "outputId": "29542287-ce43-4238-8ad3-724f6d66e47c"
      },
      "execution_count": null,
      "outputs": [
        {
          "output_type": "stream",
          "name": "stdout",
          "text": [
            "Enter a positive integer: 8\n",
            "The count of even numbers from 1 to 8 is: 4\n"
          ]
        }
      ]
    },
    {
      "cell_type": "markdown",
      "source": [
        "(20) Write a Python function called count_vowels that takes a string as input and returns the count of vowels (both lowercase and uppercase) present in the string. Consider the vowels to be 'a', 'e', 'i', 'o', and 'u'. Ignore spaces and other non-alphabetic characters."
      ],
      "metadata": {
        "id": "cboAr5pEWUf5"
      }
    },
    {
      "cell_type": "code",
      "source": [
        "input = 'Malavika scored 99 points'\n",
        "vowels = {'a', 'e', 'i', 'o', 'u', 'A', 'E', 'I', 'O', 'U'}\n",
        "vowels_count = 0\n",
        "\n",
        "for char in input:\n",
        "    if char.isalpha() and char in vowels:\n",
        "        vowels_count += 1\n",
        "\n",
        "print(\"Number of vowels:\", vowels_count)"
      ],
      "metadata": {
        "colab": {
          "base_uri": "https://localhost:8080/"
        },
        "id": "nF-4bxc0AXcW",
        "outputId": "02971f5c-ec4c-4b07-bf3d-efd1f9d98800"
      },
      "execution_count": null,
      "outputs": [
        {
          "output_type": "stream",
          "name": "stdout",
          "text": [
            "Number of vowels: 8\n"
          ]
        }
      ]
    }
  ],
  "metadata": {
    "colab": {
      "provenance": [],
      "include_colab_link": true
    },
    "kernelspec": {
      "display_name": "Python 3 (ipykernel)",
      "language": "python",
      "name": "python3"
    },
    "language_info": {
      "codemirror_mode": {
        "name": "ipython",
        "version": 3
      },
      "file_extension": ".py",
      "mimetype": "text/x-python",
      "name": "python",
      "nbconvert_exporter": "python",
      "pygments_lexer": "ipython3",
      "version": "3.9.12"
    }
  },
  "nbformat": 4,
  "nbformat_minor": 0
}